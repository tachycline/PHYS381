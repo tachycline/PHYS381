{
 "cells": [
  {
   "cell_type": "markdown",
   "metadata": {},
   "source": [
    "# Heading level 1\n",
    "##  level 2\n",
    "###  level 3\n",
    "#### level 4\n",
    "##### level 5\n"
   ]
  },
  {
   "cell_type": "markdown",
   "metadata": {},
   "source": [
    "you can add **formating** to _other_text.\n",
    "[The Link Text] (https://github.io)\n",
    "Math comes from $\\LaTeX$\n",
    "displayed equation $$ e^{i\\pi} = 1 $$\n",
    "$$ f(x) = \\sum_{n=o}^\\infty a_n \\cos n x + b_n\\sin n x $$\n",
    "$$ \\oint_\\mathcal{S} \\nabla\\cdot\\mathbf{F} = \\iiint_\\mathcal{V}\\mathbf{F}\\cdot d\\boldsymbol{\\tau}$$"
   ]
  },
  {
   "cell_type": "code",
   "execution_count": null,
   "metadata": {},
   "outputs": [],
   "source": []
  }
 ],
 "metadata": {
  "kernelspec": {
   "display_name": "Python 3",
   "language": "python",
   "name": "python3"
  },
  "language_info": {
   "codemirror_mode": {
    "name": "ipython",
    "version": 3
   },
   "file_extension": ".py",
   "mimetype": "text/x-python",
   "name": "python",
   "nbconvert_exporter": "python",
   "pygments_lexer": "ipython3",
   "version": "3.5.4"
  }
 },
 "nbformat": 4,
 "nbformat_minor": 2
}
