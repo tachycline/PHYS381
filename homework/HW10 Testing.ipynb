{
 "cells": [
  {
   "cell_type": "markdown",
   "metadata": {},
   "source": [
    "## Testing the functionality of HW 10\n",
    "\n",
    "For a complete specification of what you are to do, see __[the homework 10 writeup](homework10.org)__.\n",
    "\n",
    "### Initial bits. \n",
    "\n",
    "The module should import without errors."
   ]
  },
  {
   "cell_type": "code",
   "execution_count": 1,
   "metadata": {},
   "outputs": [],
   "source": [
    "import HW10"
   ]
  },
  {
   "cell_type": "markdown",
   "metadata": {},
   "source": [
    "These are provided for you, but we will need them later."
   ]
  },
  {
   "cell_type": "code",
   "execution_count": 2,
   "metadata": {},
   "outputs": [],
   "source": [
    "df = HW10.read_data()"
   ]
  },
  {
   "cell_type": "code",
   "execution_count": 3,
   "metadata": {},
   "outputs": [
    {
     "data": {
      "text/html": [
       "<div>\n",
       "<style scoped>\n",
       "    .dataframe tbody tr th:only-of-type {\n",
       "        vertical-align: middle;\n",
       "    }\n",
       "\n",
       "    .dataframe tbody tr th {\n",
       "        vertical-align: top;\n",
       "    }\n",
       "\n",
       "    .dataframe thead th {\n",
       "        text-align: right;\n",
       "    }\n",
       "</style>\n",
       "<table border=\"1\" class=\"dataframe\">\n",
       "  <thead>\n",
       "    <tr style=\"text-align: right;\">\n",
       "      <th></th>\n",
       "      <th>TEFF_ADOP</th>\n",
       "      <th>TEFF_ADOP_N</th>\n",
       "      <th>TEFF_ADOP_UNC</th>\n",
       "      <th>LOGG_ADOP</th>\n",
       "      <th>LOGG_ADOP_N</th>\n",
       "      <th>LOGG_ADOP_UNC</th>\n",
       "      <th>FEH_ADOP</th>\n",
       "      <th>FEH_ADOP_N</th>\n",
       "      <th>FEH_ADOP_UNC</th>\n",
       "      <th>RV_ADOP</th>\n",
       "      <th>RV_ADOP_UNC</th>\n",
       "      <th>DIST_ADOP</th>\n",
       "      <th>L</th>\n",
       "      <th>B</th>\n",
       "      <th>TEFF_UNC_REL</th>\n",
       "    </tr>\n",
       "  </thead>\n",
       "  <tbody>\n",
       "    <tr>\n",
       "      <th>13</th>\n",
       "      <td>8093.177734</td>\n",
       "      <td>5</td>\n",
       "      <td>17.046478</td>\n",
       "      <td>3.894807</td>\n",
       "      <td>4</td>\n",
       "      <td>0.058839</td>\n",
       "      <td>-1.675958</td>\n",
       "      <td>1</td>\n",
       "      <td>0.586000</td>\n",
       "      <td>223.323318</td>\n",
       "      <td>7.818055</td>\n",
       "      <td>11.022938</td>\n",
       "      <td>237.402389</td>\n",
       "      <td>37.855757</td>\n",
       "      <td>0.002106</td>\n",
       "    </tr>\n",
       "    <tr>\n",
       "      <th>21</th>\n",
       "      <td>8877.455078</td>\n",
       "      <td>4</td>\n",
       "      <td>338.060822</td>\n",
       "      <td>4.427508</td>\n",
       "      <td>2</td>\n",
       "      <td>0.127508</td>\n",
       "      <td>-3.106323</td>\n",
       "      <td>1</td>\n",
       "      <td>0.150400</td>\n",
       "      <td>-4.133572</td>\n",
       "      <td>4.987796</td>\n",
       "      <td>5.466160</td>\n",
       "      <td>237.321934</td>\n",
       "      <td>38.323073</td>\n",
       "      <td>0.038081</td>\n",
       "    </tr>\n",
       "    <tr>\n",
       "      <th>27</th>\n",
       "      <td>6080.926270</td>\n",
       "      <td>7</td>\n",
       "      <td>51.154720</td>\n",
       "      <td>3.811555</td>\n",
       "      <td>6</td>\n",
       "      <td>0.068476</td>\n",
       "      <td>0.022960</td>\n",
       "      <td>3</td>\n",
       "      <td>0.001255</td>\n",
       "      <td>3.552019</td>\n",
       "      <td>1.736180</td>\n",
       "      <td>11.819676</td>\n",
       "      <td>237.176079</td>\n",
       "      <td>38.149940</td>\n",
       "      <td>0.008412</td>\n",
       "    </tr>\n",
       "    <tr>\n",
       "      <th>31</th>\n",
       "      <td>5787.621582</td>\n",
       "      <td>7</td>\n",
       "      <td>28.281967</td>\n",
       "      <td>3.762244</td>\n",
       "      <td>6</td>\n",
       "      <td>0.043783</td>\n",
       "      <td>-0.943472</td>\n",
       "      <td>6</td>\n",
       "      <td>0.022553</td>\n",
       "      <td>77.411217</td>\n",
       "      <td>2.466664</td>\n",
       "      <td>1.986041</td>\n",
       "      <td>236.719375</td>\n",
       "      <td>38.279004</td>\n",
       "      <td>0.004887</td>\n",
       "    </tr>\n",
       "    <tr>\n",
       "      <th>33</th>\n",
       "      <td>8628.625977</td>\n",
       "      <td>3</td>\n",
       "      <td>270.294250</td>\n",
       "      <td>4.281405</td>\n",
       "      <td>2</td>\n",
       "      <td>0.018595</td>\n",
       "      <td>-3.141042</td>\n",
       "      <td>1</td>\n",
       "      <td>0.217600</td>\n",
       "      <td>39.422123</td>\n",
       "      <td>16.191286</td>\n",
       "      <td>10.153520</td>\n",
       "      <td>236.946675</td>\n",
       "      <td>38.242511</td>\n",
       "      <td>0.031325</td>\n",
       "    </tr>\n",
       "  </tbody>\n",
       "</table>\n",
       "</div>"
      ],
      "text/plain": [
       "      TEFF_ADOP  TEFF_ADOP_N  TEFF_ADOP_UNC  LOGG_ADOP  LOGG_ADOP_N  \\\n",
       "13  8093.177734            5      17.046478   3.894807            4   \n",
       "21  8877.455078            4     338.060822   4.427508            2   \n",
       "27  6080.926270            7      51.154720   3.811555            6   \n",
       "31  5787.621582            7      28.281967   3.762244            6   \n",
       "33  8628.625977            3     270.294250   4.281405            2   \n",
       "\n",
       "    LOGG_ADOP_UNC  FEH_ADOP  FEH_ADOP_N  FEH_ADOP_UNC     RV_ADOP  \\\n",
       "13       0.058839 -1.675958           1      0.586000  223.323318   \n",
       "21       0.127508 -3.106323           1      0.150400   -4.133572   \n",
       "27       0.068476  0.022960           3      0.001255    3.552019   \n",
       "31       0.043783 -0.943472           6      0.022553   77.411217   \n",
       "33       0.018595 -3.141042           1      0.217600   39.422123   \n",
       "\n",
       "    RV_ADOP_UNC  DIST_ADOP           L          B  TEFF_UNC_REL  \n",
       "13     7.818055  11.022938  237.402389  37.855757      0.002106  \n",
       "21     4.987796   5.466160  237.321934  38.323073      0.038081  \n",
       "27     1.736180  11.819676  237.176079  38.149940      0.008412  \n",
       "31     2.466664   1.986041  236.719375  38.279004      0.004887  \n",
       "33    16.191286  10.153520  236.946675  38.242511      0.031325  "
      ]
     },
     "execution_count": 3,
     "metadata": {},
     "output_type": "execute_result"
    }
   ],
   "source": [
    "df.head()"
   ]
  },
  {
   "cell_type": "markdown",
   "metadata": {},
   "source": [
    "We will import pyplot to set the backend, and start inline mode."
   ]
  },
  {
   "cell_type": "code",
   "execution_count": 4,
   "metadata": {},
   "outputs": [],
   "source": [
    "import matplotlib.pyplot\n",
    "%matplotlib inline"
   ]
  },
  {
   "cell_type": "markdown",
   "metadata": {},
   "source": [
    "### Single histogram\n",
    "\n",
    "This should show the documentation, including a description of all necessary and optional parameters."
   ]
  },
  {
   "cell_type": "code",
   "execution_count": 5,
   "metadata": {},
   "outputs": [
    {
     "name": "stdout",
     "output_type": "stream",
     "text": [
      "Help on function single_hist in module HW10:\n",
      "\n",
      "single_hist(df, percentile, ax=None, large=True)\n",
      "    Plot a single histogram\n",
      "\n"
     ]
    }
   ],
   "source": [
    "help(HW10.single_hist)"
   ]
  },
  {
   "cell_type": "markdown",
   "metadata": {},
   "source": [
    "Produce a single histogram of 1% of the data centered on the 53rd percentile."
   ]
  },
  {
   "cell_type": "code",
   "execution_count": 6,
   "metadata": {},
   "outputs": [
    {
     "data": {
      "image/png": "[encoded data removed]",
      "text/plain": [
       "<matplotlib.figure.Figure at 0x7f26180a4748>"
      ]
     },
     "metadata": {},
     "output_type": "display_data"
    }
   ],
   "source": [
    "# if you need to change the call signature here to cut the tranche outside of the function, you may do so.\n",
    "HW10.single_hist(df, 0.53)"
   ]
  },
  {
   "cell_type": "markdown",
   "metadata": {},
   "source": [
    "### Multiple histograms\n",
    "\n",
    "Again, we should have documentation here."
   ]
  },
  {
   "cell_type": "code",
   "execution_count": 7,
   "metadata": {},
   "outputs": [
    {
     "name": "stdout",
     "output_type": "stream",
     "text": [
      "Help on function hist_array in module HW10:\n",
      "\n",
      "hist_array(df)\n",
      "    Make an array of histograms.\n",
      "\n"
     ]
    }
   ],
   "source": [
    "help(HW10.hist_array)"
   ]
  },
  {
   "cell_type": "markdown",
   "metadata": {},
   "source": [
    "Produce a $10 \\times 10$ array of histograms showing each percentile between 1 and 100."
   ]
  },
  {
   "cell_type": "code",
   "execution_count": 8,
   "metadata": {},
   "outputs": [
    {
     "data": {
      "image/png": "[encoded data removed]",
      "text/plain": [
       "<matplotlib.figure.Figure at 0x7f25f1a707f0>"
      ]
     },
     "metadata": {},
     "output_type": "display_data"
    }
   ],
   "source": [
    "# again, you may change the call signature here, if necessary.\n",
    "HW10.hist_array(df)"
   ]
  },
  {
   "cell_type": "code",
   "execution_count": null,
   "metadata": {},
   "outputs": [],
   "source": []
  }
 ],
 "metadata": {
  "kernelspec": {
   "display_name": "Python 3",
   "language": "python",
   "name": "python3"
  },
  "language_info": {
   "codemirror_mode": {
    "name": "ipython",
    "version": 3
   },
   "file_extension": ".py",
   "mimetype": "text/x-python",
   "name": "python",
   "nbconvert_exporter": "python",
   "pygments_lexer": "ipython3",
   "version": "3.5.4"
  }
 },
 "nbformat": 4,
 "nbformat_minor": 1
}
