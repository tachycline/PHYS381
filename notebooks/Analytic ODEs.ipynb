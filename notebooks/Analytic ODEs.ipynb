{
 "cells": [
  {
   "cell_type": "markdown",
   "metadata": {},
   "source": [
    "Analytic solutions are part of the general picture of solving ODEs. Often, we want to compare our numerical solution to an analytic solution to understand the ways in which our solution method falls short (and pitfalls we need to watch out for). You can often do this by hand, but it is also straightforward to use the symbolic manipulation library `sympy` to carry out these solutions. To illustrate, let's walk through the solution of a simple ODE:\n",
    "\n",
    "$$\\frac{dy}{dx} = \\frac{1}{2} y,$$\n",
    "\n",
    "with initial conditions $y(0) = 1$."
   ]
  },
  {
   "cell_type": "markdown",
   "metadata": {},
   "source": [
    "## Imports\n",
    "\n",
    "We need to import `sympy` before we can use it. It is also useful to set up pretty printing, which will make `sympy` output look more like math than code."
   ]
  },
  {
   "cell_type": "code",
   "execution_count": 1,
   "metadata": {},
   "outputs": [],
   "source": [
    "import sympy as sp\n",
    "sp.init_printing()"
   ]
  },
  {
   "cell_type": "markdown",
   "metadata": {},
   "source": [
    "## Building the equation\n",
    "\n",
    "Next, we want to build the equation to solve. The basic building block of `sympy` is the `Symbol`. `Symbol`s can be built into `Expr`s (short for expressions) of various kinds: `Sum` (for `Symbol`s added together), `Mul` (for products of `Symbol`s), and so on.\n",
    "\n",
    "Before we can build our `Expr`, we need to define the `Symbol`s we will use and store them in python variables so that we can access them."
   ]
  },
  {
   "cell_type": "code",
   "execution_count": 40,
   "metadata": {},
   "outputs": [],
   "source": [
    "x = sp.symbols('x')\n",
    "y = sp.Function('y')(x)"
   ]
  },
  {
   "cell_type": "markdown",
   "metadata": {},
   "source": [
    "Note that we've defined `y` a little differently than `x` here; we want to be sure that `sympy` understands that `y` is a function of `x`. This will be important when we start taking derivatives. In fact, let's do that now. Derivatives are carried out via either `sympy.Derivative()` or `sympy.diff()`, which is a wrapper for `Derivative`.\n",
    "\n",
    "By default, `diff()` will evaluate derivatives if it can. You can turn this off with `evaluate=False` as a keyword argument."
   ]
  },
  {
   "cell_type": "code",
   "execution_count": 41,
   "metadata": {},
   "outputs": [
    {
     "data": {
      "image/png": "[encoded data removed]",
      "text/latex": [
       "$$2 x - 3$$"
      ],
      "text/plain": [
       "2⋅x - 3"
      ]
     },
     "execution_count": 41,
     "metadata": {},
     "output_type": "execute_result"
    }
   ],
   "source": [
    "sp.diff(x**2-3*x, x)"
   ]
  },
  {
   "cell_type": "code",
   "execution_count": 42,
   "metadata": {},
   "outputs": [
    {
     "data": {
      "image/png": "[encoded data removed]",
      "text/latex": [
       "$$\\frac{d}{d x}\\left(x^{2} - 3 x\\right)$$"
      ],
      "text/plain": [
       "d ⎛ 2      ⎞\n",
       "──⎝x  - 3⋅x⎠\n",
       "dx          "
      ]
     },
     "execution_count": 42,
     "metadata": {},
     "output_type": "execute_result"
    }
   ],
   "source": [
    "sp.diff(x**2-3*x, x, evaluate=False)"
   ]
  },
  {
   "cell_type": "markdown",
   "metadata": {},
   "source": [
    "In our case, since we don't have a specific functional form for $y(x)$ yet, `sympy` doesn't know how to evaluate the derivative, so it just leaves it unevaluated."
   ]
  },
  {
   "cell_type": "code",
   "execution_count": 43,
   "metadata": {},
   "outputs": [
    {
     "data": {
      "image/png": "[encoded data removed]",
      "text/latex": [
       "$$\\frac{d}{d x} y{\\left (x \\right )}$$"
      ],
      "text/plain": [
       "d       \n",
       "──(y(x))\n",
       "dx      "
      ]
     },
     "execution_count": 43,
     "metadata": {},
     "output_type": "execute_result"
    }
   ],
   "source": [
    "sp.diff(y,x)"
   ]
  },
  {
   "cell_type": "markdown",
   "metadata": {},
   "source": [
    "There are two main ways to build an equation to solve. The first is to use `sympy.Eq` to create an `Equality` expression."
   ]
  },
  {
   "cell_type": "code",
   "execution_count": 44,
   "metadata": {},
   "outputs": [
    {
     "data": {
      "image/png": "[encoded data removed]",
      "text/latex": [
       "$$\\frac{d}{d x} y{\\left (x \\right )} = 0.5 y{\\left (x \\right )}$$"
      ],
      "text/plain": [
       "d                  \n",
       "──(y(x)) = 0.5⋅y(x)\n",
       "dx                 "
      ]
     },
     "execution_count": 44,
     "metadata": {},
     "output_type": "execute_result"
    }
   ],
   "source": [
    "equation = sp.Eq(sp.diff(y, x), 1/2 * y)\n",
    "equation"
   ]
  },
  {
   "cell_type": "markdown",
   "metadata": {},
   "source": [
    "The second is to build an expression which is equal to zero. In this case, we could get there by subtracting $0.5y(x)$ from both sides:"
   ]
  },
  {
   "cell_type": "code",
   "execution_count": 45,
   "metadata": {},
   "outputs": [
    {
     "data": {
      "image/png": "[encoded data removed]",
      "text/latex": [
       "$$- 0.5 y{\\left (x \\right )} + \\frac{d}{d x} y{\\left (x \\right )}$$"
      ],
      "text/plain": [
       "            d       \n",
       "-0.5⋅y(x) + ──(y(x))\n",
       "            dx      "
      ]
     },
     "execution_count": 45,
     "metadata": {},
     "output_type": "execute_result"
    }
   ],
   "source": [
    "expr = sp.diff(y, x) - 1/2*y\n",
    "expr"
   ]
  },
  {
   "cell_type": "markdown",
   "metadata": {},
   "source": [
    "The \"=0\" part of the equation is implicit, but is understood everywhere it needs to be in `sympy`."
   ]
  },
  {
   "cell_type": "markdown",
   "metadata": {},
   "source": [
    "## Solving the equation\n",
    "\n",
    "Differential equations are solved in `sympy` with `dsolve()`. "
   ]
  },
  {
   "cell_type": "code",
   "execution_count": 46,
   "metadata": {},
   "outputs": [
    {
     "data": {
      "image/png": "[encoded data removed]",
      "text/latex": [
       "$$y{\\left (x \\right )} = C_{1} e^{0.5 x}$$"
      ],
      "text/plain": [
       "           0.5⋅x\n",
       "y(x) = C₁⋅ℯ     "
      ]
     },
     "execution_count": 46,
     "metadata": {},
     "output_type": "execute_result"
    }
   ],
   "source": [
    "ysol = sp.dsolve(equation, y)\n",
    "ysol"
   ]
  },
  {
   "cell_type": "markdown",
   "metadata": {},
   "source": [
    "You get the same result if you solve an expression that is equal to zero or an actual `Equality`."
   ]
  },
  {
   "cell_type": "code",
   "execution_count": 47,
   "metadata": {},
   "outputs": [
    {
     "data": {
      "image/png": "[encoded data removed]",
      "text/latex": [
       "$$y{\\left (x \\right )} = C_{1} e^{0.5 x}$$"
      ],
      "text/plain": [
       "           0.5⋅x\n",
       "y(x) = C₁⋅ℯ     "
      ]
     },
     "execution_count": 47,
     "metadata": {},
     "output_type": "execute_result"
    }
   ],
   "source": [
    "sp.dsolve(expr)"
   ]
  },
  {
   "cell_type": "markdown",
   "metadata": {},
   "source": [
    "Note the presence of the constant $C_1$. Constants of this kind represent degrees of freedom in our solution which must be determined by the imposition of boundary (or initial) conditions."
   ]
  },
  {
   "cell_type": "markdown",
   "metadata": {},
   "source": [
    "## Applying Boundary/Initial Conditions"
   ]
  },
  {
   "cell_type": "code",
   "execution_count": 6,
   "metadata": {},
   "outputs": [
    {
     "data": {
      "image/png": "[encoded data removed]",
      "text/latex": [
       "$$1 = C_{1}$$"
      ],
      "text/plain": [
       "1 = C₁"
      ]
     },
     "execution_count": 6,
     "metadata": {},
     "output_type": "execute_result"
    }
   ],
   "source": [
    "ysol.subs(y,1).subs(x,0)"
   ]
  },
  {
   "cell_type": "code",
   "execution_count": 7,
   "metadata": {},
   "outputs": [
    {
     "data": {
      "image/png": "[encoded data removed]",
      "text/latex": [
       "$$\\left\\{0.5, C_{1}, x\\right\\}$$"
      ],
      "text/plain": [
       "set([0.5, C₁, x])"
      ]
     },
     "execution_count": 7,
     "metadata": {},
     "output_type": "execute_result"
    }
   ],
   "source": [
    "ysol.atoms()"
   ]
  },
  {
   "cell_type": "code",
   "execution_count": 8,
   "metadata": {},
   "outputs": [],
   "source": [
    "C1 = sp.symbols('C1')"
   ]
  },
  {
   "cell_type": "code",
   "execution_count": 9,
   "metadata": {},
   "outputs": [
    {
     "data": {
      "image/png": "[encoded data removed]",
      "text/latex": [
       "$$y{\\left (x \\right )} = e^{0.5 x}$$"
      ],
      "text/plain": [
       "        0.5⋅x\n",
       "y(x) = ℯ     "
      ]
     },
     "execution_count": 9,
     "metadata": {},
     "output_type": "execute_result"
    }
   ],
   "source": [
    "constant = sp.solve(ysol, C1)[0].subs({y:1, x:0})\n",
    "ysol.subs(C1, constant)"
   ]
  },
  {
   "cell_type": "code",
   "execution_count": 10,
   "metadata": {},
   "outputs": [
    {
     "data": {
      "image/png": "[encoded data removed]",
      "text/latex": [
       "$$e^{0.5 x}$$"
      ],
      "text/plain": [
       " 0.5⋅x\n",
       "ℯ     "
      ]
     },
     "execution_count": 10,
     "metadata": {},
     "output_type": "execute_result"
    }
   ],
   "source": [
    "ysol.subs(C1, constant).rhs"
   ]
  },
  {
   "cell_type": "markdown",
   "metadata": {},
   "source": [
    "## Comparison with numerical solutions"
   ]
  },
  {
   "cell_type": "code",
   "execution_count": 11,
   "metadata": {},
   "outputs": [],
   "source": [
    "import numpy as np\n",
    "from scipy.integrate import odeint"
   ]
  },
  {
   "cell_type": "code",
   "execution_count": 12,
   "metadata": {},
   "outputs": [],
   "source": [
    "def rhs(y, x):\n",
    "    return 0.5*y"
   ]
  },
  {
   "cell_type": "code",
   "execution_count": 13,
   "metadata": {},
   "outputs": [],
   "source": [
    "domain = np.linspace(0,1, 100)\n",
    "y0 = 1\n",
    "nsol = odeint(rhs, y0, domain)\n"
   ]
  },
  {
   "cell_type": "code",
   "execution_count": 14,
   "metadata": {},
   "outputs": [
    {
     "data": {
      "text/plain": [
       "array([[ 1.        ],\n",
       "       [ 1.00506329],\n",
       "       [ 1.0101522 ],\n",
       "       [ 1.01526691],\n",
       "       [ 1.02040748],\n",
       "       [ 1.02557407],\n",
       "       [ 1.03076682],\n",
       "       [ 1.03598589],\n",
       "       [ 1.04123137],\n",
       "       [ 1.04650342],\n",
       "       [ 1.05180216],\n",
       "       [ 1.05712773],\n",
       "       [ 1.06248027],\n",
       "       [ 1.0678599 ],\n",
       "       [ 1.07326678],\n",
       "       [ 1.07870103],\n",
       "       [ 1.0841628 ],\n",
       "       [ 1.08965222],\n",
       "       [ 1.09516943],\n",
       "       [ 1.10071458],\n",
       "       [ 1.10628781],\n",
       "       [ 1.11188925],\n",
       "       [ 1.11751906],\n",
       "       [ 1.12317737],\n",
       "       [ 1.12886433],\n",
       "       [ 1.13458009],\n",
       "       [ 1.14032478],\n",
       "       [ 1.14609857],\n",
       "       [ 1.15190158],\n",
       "       [ 1.15773399],\n",
       "       [ 1.16359592],\n",
       "       [ 1.16948753],\n",
       "       [ 1.17540897],\n",
       "       [ 1.1813604 ],\n",
       "       [ 1.18734196],\n",
       "       [ 1.1933538 ],\n",
       "       [ 1.19939609],\n",
       "       [ 1.20546897],\n",
       "       [ 1.21157259],\n",
       "       [ 1.21770713],\n",
       "       [ 1.22387272],\n",
       "       [ 1.23006953],\n",
       "       [ 1.23629772],\n",
       "       [ 1.24255744],\n",
       "       [ 1.24884886],\n",
       "       [ 1.25517213],\n",
       "       [ 1.26152742],\n",
       "       [ 1.26791488],\n",
       "       [ 1.27433469],\n",
       "       [ 1.28078701],\n",
       "       [ 1.28727199],\n",
       "       [ 1.29378981],\n",
       "       [ 1.30034064],\n",
       "       [ 1.30692463],\n",
       "       [ 1.31354196],\n",
       "       [ 1.32019279],\n",
       "       [ 1.3268773 ],\n",
       "       [ 1.33359565],\n",
       "       [ 1.34034802],\n",
       "       [ 1.34713458],\n",
       "       [ 1.3539555 ],\n",
       "       [ 1.36081096],\n",
       "       [ 1.36770112],\n",
       "       [ 1.37462618],\n",
       "       [ 1.38158629],\n",
       "       [ 1.38858165],\n",
       "       [ 1.39561243],\n",
       "       [ 1.4026788 ],\n",
       "       [ 1.40978096],\n",
       "       [ 1.41691907],\n",
       "       [ 1.42409333],\n",
       "       [ 1.43130391],\n",
       "       [ 1.438551  ],\n",
       "       [ 1.44583479],\n",
       "       [ 1.45315545],\n",
       "       [ 1.46051319],\n",
       "       [ 1.46790818],\n",
       "       [ 1.47534061],\n",
       "       [ 1.48281067],\n",
       "       [ 1.49031856],\n",
       "       [ 1.49786446],\n",
       "       [ 1.50544856],\n",
       "       [ 1.51307107],\n",
       "       [ 1.52073218],\n",
       "       [ 1.52843207],\n",
       "       [ 1.53617095],\n",
       "       [ 1.54394901],\n",
       "       [ 1.55176646],\n",
       "       [ 1.55962349],\n",
       "       [ 1.5675203 ],\n",
       "       [ 1.57545709],\n",
       "       [ 1.58343408],\n",
       "       [ 1.59145145],\n",
       "       [ 1.59950941],\n",
       "       [ 1.60760818],\n",
       "       [ 1.61574795],\n",
       "       [ 1.62392893],\n",
       "       [ 1.63215134],\n",
       "       [ 1.64041538],\n",
       "       [ 1.64872126]])"
      ]
     },
     "execution_count": 14,
     "metadata": {},
     "output_type": "execute_result"
    }
   ],
   "source": [
    "nsol"
   ]
  },
  {
   "cell_type": "code",
   "execution_count": 15,
   "metadata": {},
   "outputs": [],
   "source": [
    "def analytic_1(x):\n",
    "    return np.exp(x/2)"
   ]
  },
  {
   "cell_type": "code",
   "execution_count": 16,
   "metadata": {},
   "outputs": [
    {
     "name": "stdout",
     "output_type": "stream",
     "text": [
      "Help on function lambdify in module sympy.utilities.lambdify:\n",
      "\n",
      "lambdify(args, expr, modules=None, printer=None, use_imps=True, dummify=True)\n",
      "    Returns a lambda function for fast calculation of numerical values.\n",
      "    \n",
      "    If not specified differently by the user, ``modules`` defaults to\n",
      "    ``[\"numpy\"]`` if NumPy is installed, and ``[\"math\", \"mpmath\", \"sympy\"]``\n",
      "    if it isn't, that is, SymPy functions are replaced as far as possible by\n",
      "    either ``numpy`` functions if available, and Python's standard library\n",
      "    ``math``, or ``mpmath`` functions otherwise. To change this behavior, the\n",
      "    \"modules\" argument can be used. It accepts:\n",
      "    \n",
      "     - the strings \"math\", \"mpmath\", \"numpy\", \"numexpr\", \"sympy\", \"tensorflow\"\n",
      "     - any modules (e.g. math)\n",
      "     - dictionaries that map names of sympy functions to arbitrary functions\n",
      "     - lists that contain a mix of the arguments above, with higher priority\n",
      "       given to entries appearing first.\n",
      "    \n",
      "    .. warning::\n",
      "        Note that this function uses ``eval``, and thus shouldn't be used on\n",
      "        unsanitized input.\n",
      "    \n",
      "    The default behavior is to substitute all arguments in the provided\n",
      "    expression with dummy symbols. This allows for applied functions (e.g.\n",
      "    f(t)) to be supplied as arguments. Call the function with dummify=False if\n",
      "    dummy substitution is unwanted (and `args` is not a string). If you want\n",
      "    to view the lambdified function or provide \"sympy\" as the module, you\n",
      "    should probably set dummify=False.\n",
      "    \n",
      "    For functions involving large array calculations, numexpr can provide a\n",
      "    significant speedup over numpy.  Please note that the available functions\n",
      "    for numexpr are more limited than numpy but can be expanded with\n",
      "    implemented_function and user defined subclasses of Function.  If specified,\n",
      "    numexpr may be the only option in modules. The official list of numexpr\n",
      "    functions can be found at:\n",
      "    https://github.com/pydata/numexpr#supported-functions\n",
      "    \n",
      "    In previous releases ``lambdify`` replaced ``Matrix`` with ``numpy.matrix``\n",
      "    by default. As of release 1.0 ``numpy.array`` is the default.\n",
      "    To get the old default behavior you must pass in ``[{'ImmutableDenseMatrix':\n",
      "    numpy.matrix}, 'numpy']`` to the ``modules`` kwarg.\n",
      "    \n",
      "    >>> from sympy import lambdify, Matrix\n",
      "    >>> from sympy.abc import x, y\n",
      "    >>> import numpy\n",
      "    >>> array2mat = [{'ImmutableDenseMatrix': numpy.matrix}, 'numpy']\n",
      "    >>> f = lambdify((x, y), Matrix([x, y]), modules=array2mat)\n",
      "    >>> f(1, 2)\n",
      "    matrix([[1],\n",
      "            [2]])\n",
      "    \n",
      "    Usage\n",
      "    =====\n",
      "    \n",
      "    (1) Use one of the provided modules:\n",
      "    \n",
      "        >>> from sympy import sin, tan, gamma\n",
      "        >>> from sympy.utilities.lambdify import lambdastr\n",
      "        >>> from sympy.abc import x, y\n",
      "        >>> f = lambdify(x, sin(x), \"math\")\n",
      "    \n",
      "        Attention: Functions that are not in the math module will throw a name\n",
      "                   error when the lambda function is evaluated! So this would\n",
      "                   be better:\n",
      "    \n",
      "        >>> f = lambdify(x, sin(x)*gamma(x), (\"math\", \"mpmath\", \"sympy\"))\n",
      "    \n",
      "    (2) Use some other module:\n",
      "    \n",
      "        >>> import numpy\n",
      "        >>> f = lambdify((x,y), tan(x*y), numpy)\n",
      "    \n",
      "        Attention: There are naming differences between numpy and sympy. So if\n",
      "                   you simply take the numpy module, e.g. sympy.atan will not be\n",
      "                   translated to numpy.arctan. Use the modified module instead\n",
      "                   by passing the string \"numpy\":\n",
      "    \n",
      "        >>> f = lambdify((x,y), tan(x*y), \"numpy\")\n",
      "        >>> f(1, 2)\n",
      "        -2.18503986326\n",
      "        >>> from numpy import array\n",
      "        >>> f(array([1, 2, 3]), array([2, 3, 5]))\n",
      "        [-2.18503986 -0.29100619 -0.8559934 ]\n",
      "    \n",
      "    (3) Use a dictionary defining custom functions:\n",
      "    \n",
      "        >>> def my_cool_function(x): return 'sin(%s) is cool' % x\n",
      "        >>> myfuncs = {\"sin\" : my_cool_function}\n",
      "        >>> f = lambdify(x, sin(x), myfuncs); f(1)\n",
      "        'sin(1) is cool'\n",
      "    \n",
      "    Examples\n",
      "    ========\n",
      "    \n",
      "    >>> from sympy.utilities.lambdify import implemented_function\n",
      "    >>> from sympy import sqrt, sin, Matrix\n",
      "    >>> from sympy import Function\n",
      "    >>> from sympy.abc import w, x, y, z\n",
      "    \n",
      "    >>> f = lambdify(x, x**2)\n",
      "    >>> f(2)\n",
      "    4\n",
      "    >>> f = lambdify((x, y, z), [z, y, x])\n",
      "    >>> f(1,2,3)\n",
      "    [3, 2, 1]\n",
      "    >>> f = lambdify(x, sqrt(x))\n",
      "    >>> f(4)\n",
      "    2.0\n",
      "    >>> f = lambdify((x, y), sin(x*y)**2)\n",
      "    >>> f(0, 5)\n",
      "    0.0\n",
      "    >>> row = lambdify((x, y), Matrix((x, x + y)).T, modules='sympy')\n",
      "    >>> row(1, 2)\n",
      "    Matrix([[1, 3]])\n",
      "    \n",
      "    Tuple arguments are handled and the lambdified function should\n",
      "    be called with the same type of arguments as were used to create\n",
      "    the function.:\n",
      "    \n",
      "    >>> f = lambdify((x, (y, z)), x + y)\n",
      "    >>> f(1, (2, 4))\n",
      "    3\n",
      "    \n",
      "    A more robust way of handling this is to always work with flattened\n",
      "    arguments:\n",
      "    \n",
      "    >>> from sympy.utilities.iterables import flatten\n",
      "    >>> args = w, (x, (y, z))\n",
      "    >>> vals = 1, (2, (3, 4))\n",
      "    >>> f = lambdify(flatten(args), w + x + y + z)\n",
      "    >>> f(*flatten(vals))\n",
      "    10\n",
      "    \n",
      "    Functions present in `expr` can also carry their own numerical\n",
      "    implementations, in a callable attached to the ``_imp_``\n",
      "    attribute.  Usually you attach this using the\n",
      "    ``implemented_function`` factory:\n",
      "    \n",
      "    >>> f = implemented_function(Function('f'), lambda x: x+1)\n",
      "    >>> func = lambdify(x, f(x))\n",
      "    >>> func(4)\n",
      "    5\n",
      "    \n",
      "    ``lambdify`` always prefers ``_imp_`` implementations to implementations\n",
      "    in other namespaces, unless the ``use_imps`` input parameter is False.\n",
      "    \n",
      "    Usage with Tensorflow module:\n",
      "    \n",
      "    >>> import tensorflow as tf\n",
      "    >>> f = Max(x, sin(x))\n",
      "    >>> func = lambdify(x, f, 'tensorflow')\n",
      "    >>> result = func(tf.constant(1.0))\n",
      "    >>> result # a tf.Tensor representing the result of the calculation\n",
      "    <tf.Tensor 'Maximum:0' shape=() dtype=float32>\n",
      "    >>> sess = tf.Session()\n",
      "    >>> sess.run(result) # compute result\n",
      "    1.0\n",
      "    >>> var = tf.Variable(1.0)\n",
      "    >>> sess.run(tf.global_variables_initializer())\n",
      "    >>> sess.run(func(var)) # also works for tf.Variable and tf.Placeholder\n",
      "    1.0\n",
      "    >>> tensor = tf.constant([[1.0, 2.0], [3.0, 4.0]]) # works with any shape tensor\n",
      "    >>> sess.run(func(tensor))\n",
      "    array([[ 1.,  2.],\n",
      "           [ 3.,  4.]], dtype=float32)\n",
      "\n"
     ]
    }
   ],
   "source": [
    "help(sp.lambdify)"
   ]
  },
  {
   "cell_type": "code",
   "execution_count": 17,
   "metadata": {},
   "outputs": [],
   "source": [
    "analytic_2 = sp.lambdify(x, ysol.subs(C1, constant).rhs)"
   ]
  },
  {
   "cell_type": "code",
   "execution_count": 18,
   "metadata": {},
   "outputs": [],
   "source": [
    "ansol_1 = analytic_1(domain)"
   ]
  },
  {
   "cell_type": "code",
   "execution_count": 19,
   "metadata": {},
   "outputs": [],
   "source": [
    "ansol_2 = analytic_2(domain)"
   ]
  },
  {
   "cell_type": "code",
   "execution_count": 20,
   "metadata": {},
   "outputs": [
    {
     "data": {
      "text/plain": [
       "array([ 0.,  0.,  0.,  0.,  0.,  0.,  0.,  0.,  0.,  0.,  0.,  0.,  0.,\n",
       "        0.,  0.,  0.,  0.,  0.,  0.,  0.,  0.,  0.,  0.,  0.,  0.,  0.,\n",
       "        0.,  0.,  0.,  0.,  0.,  0.,  0.,  0.,  0.,  0.,  0.,  0.,  0.,\n",
       "        0.,  0.,  0.,  0.,  0.,  0.,  0.,  0.,  0.,  0.,  0.,  0.,  0.,\n",
       "        0.,  0.,  0.,  0.,  0.,  0.,  0.,  0.,  0.,  0.,  0.,  0.,  0.,\n",
       "        0.,  0.,  0.,  0.,  0.,  0.,  0.,  0.,  0.,  0.,  0.,  0.,  0.,\n",
       "        0.,  0.,  0.,  0.,  0.,  0.,  0.,  0.,  0.,  0.,  0.,  0.,  0.,\n",
       "        0.,  0.,  0.,  0.,  0.,  0.,  0.,  0.,  0.])"
      ]
     },
     "execution_count": 20,
     "metadata": {},
     "output_type": "execute_result"
    }
   ],
   "source": [
    "ansol_1 - ansol_2"
   ]
  },
  {
   "cell_type": "code",
   "execution_count": 21,
   "metadata": {},
   "outputs": [
    {
     "data": {
      "image/png": "[encoded data removed]",
      "text/latex": [
       "$$1.05660859305e-07$$"
      ],
      "text/plain": [
       "1.05660859305e-07"
      ]
     },
     "execution_count": 21,
     "metadata": {},
     "output_type": "execute_result"
    }
   ],
   "source": [
    "residual = ansol_1 - nsol[:,0]\n",
    "np.sqrt(residual.dot(residual))"
   ]
  },
  {
   "cell_type": "markdown",
   "metadata": {},
   "source": [
    "## Plotting results"
   ]
  },
  {
   "cell_type": "code",
   "execution_count": 22,
   "metadata": {},
   "outputs": [],
   "source": [
    "import matplotlib.pyplot as plt\n",
    "%matplotlib inline"
   ]
  },
  {
   "cell_type": "code",
   "execution_count": 23,
   "metadata": {},
   "outputs": [
    {
     "data": {
      "text/plain": [
       "<matplotlib.legend.Legend at 0x7f9344216438>"
      ]
     },
     "execution_count": 23,
     "metadata": {},
     "output_type": "execute_result"
    },
    {
     "data": {
      "image/png": "[encoded data removed]",
      "text/plain": [
       "<matplotlib.figure.Figure at 0x7f9344216278>"
      ]
     },
     "metadata": {},
     "output_type": "display_data"
    }
   ],
   "source": [
    "#plt.plot(domain, ansol_1, label=\"analytic\")\n",
    "#plt.plot(domain, nsol, label=\"numerical\")\n",
    "plt.plot(domain, residual, label=\"residual\")\n",
    "plt.legend()"
   ]
  },
  {
   "cell_type": "markdown",
   "metadata": {},
   "source": [
    "Next one to try:\n",
    "$$\\frac{dy}{dx} = 3x^2 - 2,$$ $0≤ x≤ 1$; initial conditions: $y(0) = 0.5$"
   ]
  },
  {
   "cell_type": "code",
   "execution_count": 24,
   "metadata": {},
   "outputs": [],
   "source": [
    "x, C1 = sp.symbols('x C1')\n",
    "y = sp.Function('y')(x)\n",
    "rhs = 3*x**2 - 2\n",
    "equation = sp.Eq(sp.diff(y,x), rhs)\n",
    "ysol = sp.dsolve(equation, y)"
   ]
  },
  {
   "cell_type": "code",
   "execution_count": 25,
   "metadata": {},
   "outputs": [
    {
     "data": {
      "image/png": "[encoded data removed]",
      "text/latex": [
       "$$y{\\left (x \\right )} = C_{1} + x^{3} - 2 x$$"
      ],
      "text/plain": [
       "             3      \n",
       "y(x) = C₁ + x  - 2⋅x"
      ]
     },
     "execution_count": 25,
     "metadata": {},
     "output_type": "execute_result"
    }
   ],
   "source": [
    "ysol"
   ]
  },
  {
   "cell_type": "markdown",
   "metadata": {},
   "source": [
    "### Apply initial conditions"
   ]
  },
  {
   "cell_type": "code",
   "execution_count": 26,
   "metadata": {},
   "outputs": [
    {
     "data": {
      "image/png": "[encoded data removed]",
      "text/latex": [
       "$$y{\\left (x \\right )} = x^{3} - 2 x + 0.5$$"
      ],
      "text/plain": [
       "        3            \n",
       "y(x) = x  - 2⋅x + 0.5"
      ]
     },
     "execution_count": 26,
     "metadata": {},
     "output_type": "execute_result"
    }
   ],
   "source": [
    "ysol_with_ic = ysol.subs(C1, sp.solve(ysol.subs({y:0.5, x:0}))[0])\n",
    "ysol_with_ic"
   ]
  },
  {
   "cell_type": "code",
   "execution_count": null,
   "metadata": {},
   "outputs": [],
   "source": []
  }
 ],
 "metadata": {
  "kernelspec": {
   "display_name": "Python 3",
   "language": "python",
   "name": "python3"
  },
  "language_info": {
   "codemirror_mode": {
    "name": "ipython",
    "version": 3
   },
   "file_extension": ".py",
   "mimetype": "text/x-python",
   "name": "python",
   "nbconvert_exporter": "python",
   "pygments_lexer": "ipython3",
   "version": "3.5.4"
  }
 },
 "nbformat": 4,
 "nbformat_minor": 2
}
